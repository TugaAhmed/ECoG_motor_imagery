{
  "nbformat": 4,
  "nbformat_minor": 0,
  "metadata": {
    "colab": {
      "name": "Feature Extraction.ipynb",
      "provenance": [],
      "collapsed_sections": [],
      "authorship_tag": "ABX9TyM8zoK4bjKj1568JXkmyOjd",
      "include_colab_link": true
    },
    "kernelspec": {
      "name": "python3",
      "display_name": "Python 3"
    },
    "language_info": {
      "name": "python"
    }
  },
  "cells": [
    {
      "cell_type": "markdown",
      "metadata": {
        "id": "view-in-github",
        "colab_type": "text"
      },
      "source": [
        "<a href=\"https://colab.research.google.com/github/TugaAhmed/ECoG_motor_imagery/blob/main/projects/Feature_Extraction.ipynb\" target=\"_parent\"><img src=\"https://colab.research.google.com/assets/colab-badge.svg\" alt=\"Open In Colab\"/></a>"
      ]
    },
    {
      "cell_type": "code",
      "source": [
        "!pip install EntropyHub --quiet\n"
      ],
      "metadata": {
        "colab": {
          "base_uri": "https://localhost:8080/"
        },
        "id": "5omRKpFHNuby",
        "outputId": "088ac675-34dd-4e39-c14f-02ed4b3309f1"
      },
      "execution_count": 1,
      "outputs": [
        {
          "output_type": "stream",
          "name": "stdout",
          "text": [
            "\u001b[K     |████████████████████████████████| 104 kB 4.4 MB/s \n",
            "\u001b[K     |████████████████████████████████| 64 kB 2.6 MB/s \n",
            "\u001b[K     |████████████████████████████████| 76 kB 4.4 MB/s \n",
            "\u001b[K     |████████████████████████████████| 52 kB 187 kB/s \n",
            "\u001b[?25h"
          ]
        }
      ]
    },
    {
      "cell_type": "code",
      "execution_count": 16,
      "metadata": {
        "id": "vlRrM2EkNcNI"
      },
      "outputs": [],
      "source": [
        "import numpy as np\n",
        "from scipy.stats import entropy as en\n",
        "import scipy.stats as scst\n",
        "import EntropyHub as enh\n",
        "\n",
        "\n",
        "import pickle as pickle\n",
        "import pandas as pd\n",
        "import math\n",
        "\n",
        "from sklearn import svm\n",
        "from sklearn.preprocessing import normalize\n",
        "from sklearn.ensemble import RandomForestRegressor\n",
        "from sklearn.ensemble import AdaBoostRegressor\n",
        "\n",
        "import os\n",
        "import time\n",
        "import statistics as st\n",
        "from scipy.fftpack import *\n",
        "from scipy.signal import hilbert, chirp\n",
        "from scipy import signal"
      ]
    },
    {
      "cell_type": "code",
      "source": [
        "def entropy_feature(trial) :\n",
        "  trial = trial.np.unique(trial,return_counts=True)\n",
        "  return en(trial)"
      ],
      "metadata": {
        "id": "WTLHunS2ObBv"
      },
      "execution_count": 3,
      "outputs": []
    },
    {
      "cell_type": "code",
      "source": [
        "def shannon_entropy_feature(trial) :\n",
        "  square = np.power(trial,2)\n",
        "  square_sum = np.sum(square)\n",
        "  # energy Probability\n",
        "  EP = square/square_sum\n",
        "  # Shannon entropy\n",
        "  SE = -np.sum(EP * np.log(np.power(EP,2)))\n",
        "  return SE\n"
      ],
      "metadata": {
        "id": "d2ImXjf_NqmD"
      },
      "execution_count": 4,
      "outputs": []
    },
    {
      "cell_type": "code",
      "source": [
        "def log_energy_entropy_feature(trial) :\n",
        "  square = np.power(trial,2)\n",
        "  square_sum = np.sum(square)\n",
        "  # energy Probability\n",
        "  EP = square/square_sum\n",
        "  # LogEnergy entropy\n",
        "  LEE = np.sum(EP * np.log(EP))\n",
        "  return LEE\n",
        "\n",
        "\n"
      ],
      "metadata": {
        "id": "ORUjI_IeOGGH"
      },
      "execution_count": 5,
      "outputs": []
    },
    {
      "cell_type": "code",
      "source": [
        "def hilbert_feature(trial) :\n",
        "  analytic_signals = hilbert(trial)\n",
        "  amplitude_envelope = np.abs(analytic_signals)\n",
        "  averaged_amplitude_envelope = amplitude_envelope.mean()\n",
        "  return averaged_amplitude_envelope\n"
      ],
      "metadata": {
        "id": "0xPsnZaO2siI"
      },
      "execution_count": 40,
      "outputs": []
    },
    {
      "cell_type": "code",
      "source": [
        ""
      ],
      "metadata": {
        "id": "n_V7-H0G3Fve"
      },
      "execution_count": null,
      "outputs": []
    }
  ]
}