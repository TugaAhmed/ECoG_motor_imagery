{
  "nbformat": 4,
  "nbformat_minor": 0,
  "metadata": {
    "colab": {
      "name": "Feature Extraction.ipynb",
      "provenance": [],
      "collapsed_sections": [],
      "authorship_tag": "ABX9TyOcBS7EuMGgqgkvZit8Qc9z",
      "include_colab_link": true
    },
    "kernelspec": {
      "name": "python3",
      "display_name": "Python 3"
    },
    "language_info": {
      "name": "python"
    }
  },
  "cells": [
    {
      "cell_type": "markdown",
      "metadata": {
        "id": "view-in-github",
        "colab_type": "text"
      },
      "source": [
        "<a href=\"https://colab.research.google.com/github/TugaAhmed/ECoG_motor_imagery/blob/main/projects/Feature_Extraction.ipynb\" target=\"_parent\"><img src=\"https://colab.research.google.com/assets/colab-badge.svg\" alt=\"Open In Colab\"/></a>"
      ]
    },
    {
      "cell_type": "code",
      "source": [
        "!pip install EntropyHub --quiet\n"
      ],
      "metadata": {
        "colab": {
          "base_uri": "https://localhost:8080/"
        },
        "id": "5omRKpFHNuby",
        "outputId": "9b0e6ad7-7206-4e34-d9de-828b5b25a426"
      },
      "execution_count": 14,
      "outputs": [
        {
          "output_type": "stream",
          "name": "stdout",
          "text": [
            "\u001b[?25l\r\u001b[K     |███▏                            | 10 kB 17.1 MB/s eta 0:00:01\r\u001b[K     |██████▎                         | 20 kB 21.5 MB/s eta 0:00:01\r\u001b[K     |█████████▍                      | 30 kB 12.2 MB/s eta 0:00:01\r\u001b[K     |████████████▋                   | 40 kB 10.2 MB/s eta 0:00:01\r\u001b[K     |███████████████▊                | 51 kB 5.0 MB/s eta 0:00:01\r\u001b[K     |██████████████████▉             | 61 kB 5.9 MB/s eta 0:00:01\r\u001b[K     |██████████████████████          | 71 kB 5.6 MB/s eta 0:00:01\r\u001b[K     |█████████████████████████▏      | 81 kB 4.4 MB/s eta 0:00:01\r\u001b[K     |████████████████████████████▎   | 92 kB 4.8 MB/s eta 0:00:01\r\u001b[K     |███████████████████████████████▍| 102 kB 5.3 MB/s eta 0:00:01\r\u001b[K     |████████████████████████████████| 104 kB 5.3 MB/s \n",
            "\u001b[K     |████████████████████████████████| 64 kB 2.6 MB/s \n",
            "\u001b[K     |████████████████████████████████| 76 kB 5.1 MB/s \n",
            "\u001b[K     |████████████████████████████████| 52 kB 1.3 MB/s \n",
            "\u001b[?25h"
          ]
        }
      ]
    },
    {
      "cell_type": "code",
      "execution_count": 32,
      "metadata": {
        "id": "vlRrM2EkNcNI"
      },
      "outputs": [],
      "source": [
        "import numpy as np\n",
        "from scipy.stats import entropy as en\n",
        "import scipy.stats as scst\n",
        "import EntropyHub as enh\n",
        "\n",
        "\n",
        "import pickle as pickle\n",
        "import pandas as pd\n",
        "import math\n",
        "\n",
        "from sklearn import svm\n",
        "from sklearn.preprocessing import normalize\n",
        "from sklearn.ensemble import RandomForestRegressor\n",
        "from sklearn.ensemble import AdaBoostRegressor\n",
        "\n",
        "import os\n",
        "import time\n",
        "import statistics as st"
      ]
    },
    {
      "cell_type": "code",
      "source": [
        "def entropy_feature(trial) :\n",
        "  trial = trial.np.unique(trial,return_counts=True)\n",
        "  return en(trial)"
      ],
      "metadata": {
        "id": "WTLHunS2ObBv"
      },
      "execution_count": 29,
      "outputs": []
    },
    {
      "cell_type": "code",
      "source": [
        "def shannon_entropy_feature(trial) :\n",
        "  square = np.power(trial,2)\n",
        "  square_sum = np.sum(square)\n",
        "  # energy Probability\n",
        "  EP = square/square_sum\n",
        "  # Shannon entropy\n",
        "  SE = -np.sum(EP * np.log(np.power(EP,2)))\n",
        "  return SE\n"
      ],
      "metadata": {
        "id": "d2ImXjf_NqmD"
      },
      "execution_count": 30,
      "outputs": []
    },
    {
      "cell_type": "code",
      "source": [
        "def log_energy_entropy_feature(trial) :\n",
        "  square = np.power(trial,2)\n",
        "  square_sum = np.sum(square)\n",
        "  # energy Probability\n",
        "  EP = square/square_sum\n",
        "  # LogEnergy entropy\n",
        "  LEE = np.sum(EP * np.log(EP))\n",
        "  return LEE\n",
        "\n",
        "\n"
      ],
      "metadata": {
        "id": "ORUjI_IeOGGH"
      },
      "execution_count": 31,
      "outputs": []
    },
    {
      "cell_type": "code",
      "source": [
        ""
      ],
      "metadata": {
        "id": "j5qvJrxdjEuR"
      },
      "execution_count": 34,
      "outputs": []
    },
    {
      "cell_type": "code",
      "source": [
        ""
      ],
      "metadata": {
        "id": "YRflcjlBjmGW"
      },
      "execution_count": null,
      "outputs": []
    }
  ]
}