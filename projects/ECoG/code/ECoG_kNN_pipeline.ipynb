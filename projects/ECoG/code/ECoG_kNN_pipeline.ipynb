{
  "nbformat": 4,
  "nbformat_minor": 0,
  "metadata": {
    "colab": {
      "name": "Moter_Imagery_Classification_Pipline.ipynb",
      "provenance": [],
      "collapsed_sections": []
    },
    "kernelspec": {
      "name": "python3",
      "display_name": "Python 3"
    },
    "language_info": {
      "name": "python"
    }
  },
  "cells": [
    {
      "cell_type": "markdown",
      "metadata": {
        "id": "view-in-github"
      },
      "source": [
        "<a href=\"https://colab.research.google.com/github/TugaAhmed/ECoG_motor_imagery/blob/main/projects/Moter_Imagery_Classification_Pipline.ipynb\" target=\"_parent\"><img src=\"https://colab.research.google.com/assets/colab-badge.svg\" alt=\"Open In Colab\"/></a>"
      ]
    },
    {
      "cell_type": "code",
      "source": [
        "#@title Install/Import Libraries \n",
        "\n",
        "!pip install EntropyHub --quiet\n",
        "!pip install nilearn --quiet\n",
        "!pip install nimare --quiet\n",
        "!pip install duecredit --quiet\n",
        "\n",
        "from matplotlib import rcParams\n",
        "from matplotlib import pyplot as plt\n",
        "\n",
        "rcParams['figure.figsize'] = [20, 4]\n",
        "rcParams['font.size'] = 15\n",
        "rcParams['axes.spines.top'] = False\n",
        "rcParams['axes.spines.right'] = False\n",
        "rcParams['figure.autolayout'] = True\n",
        "\n",
        "import numpy as np\n",
        "from scipy.stats import entropy as en\n",
        "import scipy.stats as scst\n",
        "import EntropyHub as enh\n",
        "\n",
        "\n",
        "import pickle as pickle\n",
        "import pandas as pd\n",
        "import math\n",
        "import seaborn as sns\n",
        "\n",
        "from sklearn import svm\n",
        "from sklearn.neighbors import NearestNeighbors\n",
        "from sklearn.metrics import classification_report, confusion_matrix\n",
        "\n",
        "from sklearn.preprocessing import normalize\n",
        "from sklearn.ensemble import RandomForestRegressor\n",
        "from sklearn.ensemble import AdaBoostRegressor\n",
        "from sklearn.model_selection import train_test_split\n",
        "from sklearn.model_selection import GridSearchCV\n",
        "from sklearn.neighbors import KNeighborsRegressor\n",
        "from sklearn.metrics import mean_squared_error\n",
        "\n",
        "\n",
        "import os\n",
        "import time\n",
        "import statistics as st\n",
        "import scipy\n",
        "from scipy.fftpack import *\n",
        "from scipy.signal import hilbert, chirp\n",
        "from scipy import signal\n"
      ],
      "metadata": {
        "id": "fkU3qP4ouGVG",
        "colab": {
          "base_uri": "https://localhost:8080/"
        },
        "outputId": "8f843cba-6ccf-480e-9fae-b908dd4b4cd6"
      },
      "execution_count": 1,
      "outputs": [
        {
          "output_type": "stream",
          "name": "stdout",
          "text": [
            "\u001b[K     |████████████████████████████████| 104 kB 8.5 MB/s \n",
            "\u001b[K     |████████████████████████████████| 64 kB 3.1 MB/s \n",
            "\u001b[K     |████████████████████████████████| 76 kB 5.0 MB/s \n",
            "\u001b[K     |████████████████████████████████| 52 kB 1.3 MB/s \n",
            "\u001b[K     |████████████████████████████████| 9.6 MB 2.1 MB/s \n",
            "\u001b[K     |████████████████████████████████| 13.3 MB 7.8 MB/s \n",
            "\u001b[K     |████████████████████████████████| 3.2 MB 46.7 MB/s \n",
            "\u001b[K     |████████████████████████████████| 77 kB 6.1 MB/s \n",
            "\u001b[?25h  Building wheel for cognitiveatlas (setup.py) ... \u001b[?25l\u001b[?25hdone\n",
            "\u001b[K     |████████████████████████████████| 86 kB 4.0 MB/s \n",
            "\u001b[K     |████████████████████████████████| 179 kB 17.7 MB/s \n",
            "\u001b[?25h"
          ]
        }
      ]
    },
    {
      "cell_type": "markdown",
      "source": [
        "## **Motor Imagery Classification With Optimal Selection Of Minimum Electrode Subsets**\n",
        "\n",
        "Group project developed by Chrysalis team, NMA 2022\n",
        "\n",
        "**Pipeline :**\n",
        "\n",
        "\n",
        "1. Data acquisition \n",
        "2. Data filtering/artifact removal\n",
        "3. Epoching and Down-sampling\n",
        "4. Feature Selection \n",
        "5. Model Fitting \n",
        "6. Channel Selection\n",
        "\n",
        "\n",
        "\n"
      ],
      "metadata": {
        "id": "K0THE1PSskJu"
      }
    },
    {
      "cell_type": "code",
      "source": [
        "#@title Feature Selection Methods\n",
        "\n",
        "def ERD_feature(trial_task, trial_rest) :\n",
        "  \n",
        "  # Step1 : high-pass filter (above 8 Hz)\n",
        "  b1, a1 = signal.butter(3, [8], btype='high', fs=1000)\n",
        "  trial_rest_high_filtered = signal.filtfilt(b1, a1, trial_rest, 0)\n",
        "\n",
        "  b2, a2 = signal.butter(3, [8], btype='high', fs=1000)\n",
        "  trial_task_high_filtered = signal.filtfilt(b2, a2, trial_task, 0)\n",
        "\n",
        "  # Step2 : low-pass filter (below 12 Hz)\n",
        "  b1, a1 = signal.butter(3, [12], btype='low', fs=1000)\n",
        "  trial_rest_bandpass_filtered = signal.filtfilt(b1, a1, trial_rest, 0)\n",
        "\n",
        "  b2, a2 = signal.butter(3, [12], btype='low', fs=1000)\n",
        "  trial_task_bandpass_filtered = signal.filtfilt(b2, a2, trial_task, 0)\n",
        "  \n",
        "  # Same time_window size for trial_task and trial_rest(can be different )\n",
        "  time_window = trial_task.shape[0]  # One second or less for BCI application\n",
        "  \n",
        "  # Step3 : power_spectrum \n",
        "  rest_fourier_transform = np.fft.rfft(trial_rest_bandpass_filtered)\n",
        "  rest_abs_fourier_transform = np.abs(rest_fourier_transform)\n",
        "  rest_power_spectrum = np.square(rest_abs_fourier_transform)\n",
        "\n",
        "  task_fourier_transform = np.fft.rfft(trial_task_bandpass_filtered)\n",
        "  task_abs_fourier_transform = np.abs(task_fourier_transform)\n",
        "  task_power_spectrum = np.square(task_abs_fourier_transform)\n",
        "\n",
        "  # Step4: \n",
        "  # P_rest is the mean power spectra during the rest period \n",
        "  # P_task is the mean power spectra during the task period \n",
        "\n",
        "  p_rest = (1/time_window) * np.sum(rest_power_spectrum)\n",
        "  p_task = (1/time_window) * np.sum(task_power_spectrum)\n",
        "\n",
        "  # Step5: relative power (RP)\n",
        "\n",
        "  RP = ((p_task - p_rest) / p_rest ) * 100\n",
        "  \n",
        "  return RP\n",
        "\n",
        "\n",
        "\n",
        "def shannon_entropy_feature(trial) :\n",
        "  square = np.power(trial,2)\n",
        "  square_sum = np.sum(square)\n",
        "  # energy Probability\n",
        "  EP = square/square_sum\n",
        "  # Shannon entropy\n",
        "  SE = -np.sum(EP * np.log(np.power(EP,2)))\n",
        "  return SE\n",
        "\n",
        "\n",
        "\n",
        "def log_energy_entropy_feature(trial) :\n",
        "  square = np.power(trial,2)\n",
        "  square_sum = np.sum(square)\n",
        "  # energy Probability\n",
        "  EP = square/square_sum\n",
        "  # LogEnergy entropy\n",
        "  LEE = np.sum(EP * np.log(EP))\n",
        "  return LEE\n",
        "\n",
        "\n",
        "\n",
        "def hilbert_feature(trial) :\n",
        "  analytic_signals = scipy.signal.hilbert(trial)\n",
        "  amplitude_envelope = np.abs(analytic_signals)\n",
        "  averaged_amplitude_envelope = amplitude_envelope.mean()\n",
        "  return averaged_amplitude_envelope\n",
        "\n",
        "\n",
        "def log_variance_feature(trial) :\n",
        "  log_variance = np.log(np.var(trial))\n",
        "  return log_variance\n",
        "\n",
        "\n",
        "def std_feature(trial) :\n",
        "  return np.std(trial)\n",
        "\n",
        "\n",
        "def mean_feature(trial) :\n",
        "  return np.mean(trial)\n",
        "\n",
        "\n",
        "\n"
      ],
      "metadata": {
        "cellView": "form",
        "id": "_AvKt-AL46K5"
      },
      "execution_count": 2,
      "outputs": []
    },
    {
      "cell_type": "code",
      "execution_count": 3,
      "metadata": {
        "cellView": "form",
        "id": "bilaemYWsc1h"
      },
      "outputs": [],
      "source": [
        "#@title 1. Data acquisition\n",
        "# 1. Data acquisition\n",
        "import os, requests\n",
        "\n",
        "fname = 'motor_imagery.npz'\n",
        "url = \"https://osf.io/ksqv8/download\"\n",
        "\n",
        "if not os.path.isfile(fname):\n",
        "  try:\n",
        "    r = requests.get(url)\n",
        "  except requests.ConnectionError:\n",
        "    print(\"!!! Failed to download data !!!\")\n",
        "  else:\n",
        "    if r.status_code != requests.codes.ok:\n",
        "      print(\"!!! Failed to download data !!!\")\n",
        "    else:\n",
        "      with open(fname, \"wb\") as fid:\n",
        "        fid.write(r.content)\n",
        "\n",
        "alldat = np.load(fname, allow_pickle=True)['dat']"
      ]
    },
    {
      "cell_type": "code",
      "source": [
        "#@title 2.Data filtering/artifact removal\n",
        "\n",
        "def filter_EcoG_data(subject_number = 0 , experiment_number = 1) :\n",
        "  '''\n",
        "       input : \n",
        "        1. subject number - int value\n",
        "        2. experiment number - int value\n",
        "       return :\n",
        "        filtred Voltage np array\n",
        "  '''\n",
        "  data = alldat[subject_number][experiment_number]  # Data from  first subject , second experiment(motor imagery)\n",
        "\n",
        "  # V is the voltage data\n",
        "  V = data['V'].astype('float32')\n",
        "\n",
        "  # high-pass filter above 0.1 Hz\n",
        "  b, a = signal.butter(3, [0.1], btype='high', fs=1000)\n",
        "  V = signal.filtfilt(b, a, V, 0)\n",
        "\n",
        "  # low-pass filter above 45 Hz\n",
        "  b, a = signal.butter(3, [45], btype='low', fs=1000)\n",
        "  V = signal.filtfilt(b, a, V, 0)\n",
        "\n",
        "\n",
        "  # Work on Notch Filtering @ 60 HZ\n",
        "  fs = 1000.0  # Sample frequency (Hz)\n",
        "  f0 = 60.0  # Frequency to be removed from signal (Hz)\n",
        "  Q = 2.0  # Quality factor\n",
        "  # Design notch filter\n",
        "  b, a = signal.iirnotch(f0, Q, fs)\n",
        "  NotchSignal60 = signal.filtfilt(b, a, V)\n",
        "\n",
        "\n",
        "  # Work on Notch Filtering @ 120 HZ\n",
        "  fs = 1000.0  # Sample frequency (Hz)\n",
        "  f2 = 120.0  # Frequency to be removed from signal (Hz)\n",
        "  Q = 2.0  # Quality factor\n",
        "  # Design notch filter\n",
        "  b, a = signal.iirnotch(f0, Q, fs)\n",
        "  NotchSignal120 = signal.filtfilt(b, a, V)\n",
        "\n",
        "\n",
        "  # normalize each channel so its mean power is 1\n",
        "  V = V/V.mean(0)\n",
        "  return V\n",
        "\n"
      ],
      "metadata": {
        "cellView": "form",
        "id": "XT1LyQOxz-Yv"
      },
      "execution_count": 4,
      "outputs": []
    },
    {
      "cell_type": "code",
      "source": [
        "#@title 3.Epoching and Down-Sampling\n",
        "\n",
        "\n",
        "\n",
        "def epoching_down_sampling(filtered_V,subject_number=0,experiment_number=1,\\\n",
        "                           channels_list=[1] , sample_size = 1000) :\n",
        "  '''\n",
        "     input : \n",
        "         filtered voltage data - np array\n",
        "         subject number - int\n",
        "         experiment number - int\n",
        "         channels list - list\n",
        "         sample size  - int\n",
        "    return :\n",
        "         stacked array of all channels \n",
        "         1D array of labels \n",
        "  '''\n",
        "  def get_labels_array(channels_list, subject_number , experiment_number) :\n",
        "    stacked_labels = np.zeros(60*len(channels_list))\n",
        "    \n",
        "    for channel in range(len(channels_list)) :\n",
        "      new_stim_id_array = np.zeros(60)\n",
        "      for  i , stim_id in enumerate(alldat[subject_number][experiment_number]['stim_id']) :\n",
        "        if stim_id == 11 :\n",
        "          new_stim_id_array[i] = 0\n",
        "        else :\n",
        "          new_stim_id_array[i] = 1\n",
        "      stacked_labels[60*channel:(60*channel) + 60 ] = new_stim_id_array\n",
        "    return stacked_labels\n",
        "\n",
        "\n",
        "  V_T = filtered_V.T\n",
        "  channels_array_list = []\n",
        "  t_on_array = alldat[subject_number][experiment_number]['t_on']\n",
        "  t_off_array = alldat[subject_number][experiment_number]['t_off']\n",
        "  step_size = (t_off_array[0] - t_on_array[0]) / sample_size\n",
        "\n",
        "  for channel in channels_list :\n",
        "    channel_array = V_T[channel][t_on_array[0] : t_off_array[0]-1][::int(step_size)]\n",
        "    for t_on , t_off  in zip (t_on_array[1:] , t_off_array[1:]) :\n",
        "      slice_v = V_T[channel][t_on : t_off-1][::int(step_size)]\n",
        "      channel_array = np.vstack((channel_array,slice_v))\n",
        "    channels_array_list.append(channel_array)\n",
        "  \n",
        "  all_channels_stacked_array = np.concatenate(channels_array_list , axis=0)\n",
        "\n",
        "  labels = get_labels_array(channels_list , subject_number , experiment_number) \n",
        "  return all_channels_stacked_array , labels\n",
        "\n",
        "\n"
      ],
      "metadata": {
        "id": "2L7GOsPz1vGU"
      },
      "execution_count": 5,
      "outputs": []
    },
    {
      "cell_type": "code",
      "source": [
        "#@title 4.Feature Selection\n",
        "\n",
        "def feature_selection(all_channels_stacked_array) :\n",
        "  '''\n",
        "    Convert raw V to features \n",
        "    input :\n",
        "      all channels stacked array\n",
        "    return :\n",
        "      X array(number of samples , number of features) as input to classifer\n",
        "  '''\n",
        "\n",
        "  # ERD_feature\n",
        "  number_of_samples = all_channels_stacked_array.shape[0]\n",
        "  mean_array = std_array = log_variance_array = hilbert_array =\\\n",
        "  log_energy_entropy_array = shannon_entropy_array = np.zeros(number_of_samples)\n",
        "\n",
        "  for i , time_window in enumerate(all_channels_stacked_array) :\n",
        "    mean_array[i] = mean_feature(time_window)\n",
        "    std_array[i] = std_feature(time_window)\n",
        "    log_variance_array[i] = log_variance_feature(time_window)\n",
        "    hilbert_array[i] = hilbert_feature(time_window)\n",
        "    log_energy_entropy_array[i] = log_energy_entropy_feature(time_window)\n",
        "    shannon_entropy_array[i] = shannon_entropy_feature(time_window)\n",
        "    \n",
        "\n",
        "\n",
        "  # Features array as X input to classifer\n",
        "  X = np.column_stack((mean_array,std_array,log_variance_array,hilbert_array\\\n",
        "                       ,log_energy_entropy_array,shannon_entropy_array))\n",
        "  return X\n",
        "\n",
        "\n"
      ],
      "metadata": {
        "id": "X2CwhuEYyiNP"
      },
      "execution_count": 6,
      "outputs": []
    },
    {
      "cell_type": "code",
      "source": [
        "V = filter_EcoG_data(subject_number=0,experiment_number=1)\n",
        "V.shape"
      ],
      "metadata": {
        "id": "Xe6pwuy16LuB",
        "colab": {
          "base_uri": "https://localhost:8080/"
        },
        "outputId": "c9b597a0-2e5a-4b0f-838b-64172b41d296"
      },
      "execution_count": 7,
      "outputs": [
        {
          "output_type": "execute_result",
          "data": {
            "text/plain": [
              "(376600, 46)"
            ]
          },
          "metadata": {},
          "execution_count": 7
        }
      ]
    },
    {
      "cell_type": "code",
      "source": [
        "all_channels_stacked_array , labels= epoching_down_sampling(V,channels_list = [2] ,sample_size=1000)\n",
        "all_channels_stacked_array.shape"
      ],
      "metadata": {
        "id": "C2g3V4nd72mA",
        "colab": {
          "base_uri": "https://localhost:8080/"
        },
        "outputId": "bd73ca26-6e26-4f3e-88a9-fe2fec2bd1a3"
      },
      "execution_count": 8,
      "outputs": [
        {
          "output_type": "execute_result",
          "data": {
            "text/plain": [
              "(60, 1000)"
            ]
          },
          "metadata": {},
          "execution_count": 8
        }
      ]
    },
    {
      "cell_type": "code",
      "source": [
        "labels.shape"
      ],
      "metadata": {
        "colab": {
          "base_uri": "https://localhost:8080/"
        },
        "id": "S_G3vIqC5t8a",
        "outputId": "9968de56-c2df-4b43-e009-19f3a95b5b66"
      },
      "execution_count": 9,
      "outputs": [
        {
          "output_type": "execute_result",
          "data": {
            "text/plain": [
              "(60,)"
            ]
          },
          "metadata": {},
          "execution_count": 9
        }
      ]
    },
    {
      "cell_type": "code",
      "source": [
        "X = feature_selection(all_channels_stacked_array)\n",
        "X.shape"
      ],
      "metadata": {
        "colab": {
          "base_uri": "https://localhost:8080/"
        },
        "id": "GUQIWDVzgVfy",
        "outputId": "b10db606-fab4-40d1-bfd9-ab2d62923017"
      },
      "execution_count": 10,
      "outputs": [
        {
          "output_type": "execute_result",
          "data": {
            "text/plain": [
              "(60, 6)"
            ]
          },
          "metadata": {},
          "execution_count": 10
        }
      ]
    },
    {
      "cell_type": "code",
      "source": [
        "Y = labels\n",
        "Y.shape"
      ],
      "metadata": {
        "colab": {
          "base_uri": "https://localhost:8080/"
        },
        "id": "aJdVi67OkqCe",
        "outputId": "b60db0d1-24ad-40ad-d069-7e69bbac457d"
      },
      "execution_count": 11,
      "outputs": [
        {
          "output_type": "execute_result",
          "data": {
            "text/plain": [
              "(60,)"
            ]
          },
          "metadata": {},
          "execution_count": 11
        }
      ]
    },
    {
      "cell_type": "code",
      "source": [
        "# 5/ Model Fitting\n",
        "\n",
        "# step(1):  devide X,Y into train - test set \n",
        "X_train, X_test, y_train, y_test = train_test_split(X, Y, test_size = 0.30, random_state = 101)"
      ],
      "metadata": {
        "id": "QT4s1zld9AEr"
      },
      "execution_count": 58,
      "outputs": []
    },
    {
      "cell_type": "code",
      "source": [
        "SVM_classifer = svm.SVC(gamma=0.001 , C=100 , kernel='linear')\n",
        "SVM_classifer.fit(X_train, y_train)"
      ],
      "metadata": {
        "colab": {
          "base_uri": "https://localhost:8080/"
        },
        "id": "BU3vw1HQ9c3t",
        "outputId": "01e7a8ea-2669-42f3-9cbc-393ae11f8506"
      },
      "execution_count": 57,
      "outputs": [
        {
          "output_type": "execute_result",
          "data": {
            "text/plain": [
              "SVC(C=100, gamma=0.001, kernel='linear')"
            ]
          },
          "metadata": {},
          "execution_count": 57
        }
      ]
    },
    {
      "cell_type": "code",
      "source": [
        "y_pred = SVM_classifer.predict(X_test)"
      ],
      "metadata": {
        "id": "0Z8bR_WX-h6T"
      },
      "execution_count": 59,
      "outputs": []
    },
    {
      "cell_type": "code",
      "source": [
        "print(classification_report(y_test , y_pred))"
      ],
      "metadata": {
        "colab": {
          "base_uri": "https://localhost:8080/"
        },
        "id": "hkaIa1aV-4pz",
        "outputId": "98b5722e-b402-4f8b-d8a6-bcce338f7d1f"
      },
      "execution_count": 60,
      "outputs": [
        {
          "output_type": "stream",
          "name": "stdout",
          "text": [
            "              precision    recall  f1-score   support\n",
            "\n",
            "         0.0       0.41      1.00      0.58         7\n",
            "         1.0       1.00      0.09      0.17        11\n",
            "\n",
            "    accuracy                           0.44        18\n",
            "   macro avg       0.71      0.55      0.38        18\n",
            "weighted avg       0.77      0.44      0.33        18\n",
            "\n"
          ]
        }
      ]
    },
    {
      "cell_type": "code",
      "source": [
        "#@title 4.Fitting kNN model\n",
        "X_train_knn, X_test_knn, y_train_knn, y_test_knn = train_test_split(X, Y, test_size = 0.30, random_state = 123)\n",
        "knn_model = KNeighborsRegressor(n_neighbors=3)"
      ],
      "metadata": {
        "id": "RTmqcItc-_kQ"
      },
      "execution_count": 63,
      "outputs": []
    },
    {
      "cell_type": "code",
      "source": [
        "knn_model.fit(X_train_knn, y_train_knn)\n",
        "train_preds_knn = knn_model.predict(X_train_knn)\n",
        "mse = mean_squared_error(y_train_knn, train_preds_knn)\n",
        "rmse = np.sqrt(mse)\n",
        "rmse"
      ],
      "metadata": {
        "colab": {
          "base_uri": "https://localhost:8080/"
        },
        "id": "wcqWMS_-FbxC",
        "outputId": "5193a526-a521-4c53-9547-f9f7b129afca"
      },
      "execution_count": 64,
      "outputs": [
        {
          "output_type": "execute_result",
          "data": {
            "text/plain": [
              "0.5539659798925444"
            ]
          },
          "metadata": {},
          "execution_count": 64
        }
      ]
    },
    {
      "cell_type": "code",
      "source": [
        "test_preds_knn = knn_model.predict(X_test_knn)\n",
        "mse = mean_squared_error(y_test_knn, test_preds_knn)\n",
        "rmse = np.sqrt(mse)\n",
        "rmse"
      ],
      "metadata": {
        "colab": {
          "base_uri": "https://localhost:8080/"
        },
        "id": "Gd13D6BPGltD",
        "outputId": "3dded5e4-82f6-496a-8b2a-963fb6853158"
      },
      "execution_count": 65,
      "outputs": [
        {
          "output_type": "execute_result",
          "data": {
            "text/plain": [
              "0.5211573066470477"
            ]
          },
          "metadata": {},
          "execution_count": 65
        }
      ]
    },
    {
      "cell_type": "code",
      "source": [
        "cmap = sns.cubehelix_palette(as_cmap=True)\n",
        "f, ax = plt.subplots()\n",
        "points = ax.scatter(X_test_knn[:, 0], X_test_knn[:, 1], c=test_preds_knn, s=50, cmap=cmap)\n",
        "f.colorbar(points)\n",
        "plt.show()"
      ],
      "metadata": {
        "colab": {
          "base_uri": "https://localhost:8080/",
          "height": 297
        },
        "id": "daJXo6jOGWh4",
        "outputId": "3f840840-f078-4a32-ad82-fe7edbf68d5e"
      },
      "execution_count": 66,
      "outputs": [
        {
          "output_type": "display_data",
          "data": {
            "text/plain": [
              "<Figure size 432x288 with 2 Axes>"
            ],
            "image/png": "[encoded data removed]"
          },
          "metadata": {
            "needs_background": "light"
          }
        }
      ]
    },
    {
      "cell_type": "code",
      "source": [
        "cmap = sns.cubehelix_palette(as_cmap=True)\n",
        "f, ax = plt.subplots()\n",
        "points = ax.scatter(X_test_knn[:, 0], X_test_knn[:, 1], c=y_test_knn, s=50, cmap=cmap)\n",
        "f.colorbar(points)\n",
        "plt.show()"
      ],
      "metadata": {
        "colab": {
          "base_uri": "https://localhost:8080/",
          "height": 297
        },
        "id": "YDC7HB-4G1a_",
        "outputId": "ce9615f8-a89b-4234-9c2c-7052424a32d2"
      },
      "execution_count": 67,
      "outputs": [
        {
          "output_type": "display_data",
          "data": {
            "text/plain": [
              "<Figure size 432x288 with 2 Axes>"
            ],
            "image/png": "[encoded data removed]"
          },
          "metadata": {
            "needs_background": "light"
          }
        }
      ]
    },
    {
      "cell_type": "code",
      "source": [
        "parameters_knn = {\"n_neighbors\": range(1, 30)}\n",
        "gridsearch = GridSearchCV(KNeighborsRegressor(), parameters_knn, verbose=3)\n",
        "gridsearch.fit(X_train_knn, y_train_knn)\n",
        "gridsearch.best_params_"
      ],
      "metadata": {
        "colab": {
          "base_uri": "https://localhost:8080/"
        },
        "id": "mdjWCsK9HBjg",
        "outputId": "8b0c0511-ff11-4a6f-cc2a-0c7c98d8ea0a"
      },
      "execution_count": 69,
      "outputs": [
        {
          "output_type": "stream",
          "name": "stdout",
          "text": [
            "Fitting 5 folds for each of 29 candidates, totalling 145 fits\n",
            "[CV 1/5] END ....................n_neighbors=1;, score=-2.214 total time=   0.0s\n",
            "[CV 2/5] END ....................n_neighbors=1;, score=-1.250 total time=   0.0s\n",
            "[CV 3/5] END ....................n_neighbors=1;, score=-2.333 total time=   0.0s\n",
            "[CV 4/5] END ....................n_neighbors=1;, score=-2.000 total time=   0.0s\n",
            "[CV 5/5] END ....................n_neighbors=1;, score=-1.000 total time=   0.0s\n",
            "[CV 1/5] END ....................n_neighbors=2;, score=-0.446 total time=   0.0s\n",
            "[CV 2/5] END ....................n_neighbors=2;, score=-1.250 total time=   0.0s\n",
            "[CV 3/5] END ....................n_neighbors=2;, score=-2.000 total time=   0.0s\n",
            "[CV 4/5] END .....................n_neighbors=2;, score=0.000 total time=   0.0s\n",
            "[CV 5/5] END ....................n_neighbors=2;, score=-1.000 total time=   0.0s\n",
            "[CV 1/5] END ....................n_neighbors=3;, score=-1.357 total time=   0.0s\n",
            "[CV 2/5] END ....................n_neighbors=3;, score=-0.950 total time=   0.0s\n",
            "[CV 3/5] END ....................n_neighbors=3;, score=-1.963 total time=   0.0s\n",
            "[CV 4/5] END ....................n_neighbors=3;, score=-0.111 total time=   0.0s\n",
            "[CV 5/5] END ....................n_neighbors=3;, score=-0.944 total time=   0.0s\n",
            "[CV 1/5] END ....................n_neighbors=4;, score=-1.049 total time=   0.0s\n",
            "[CV 2/5] END ....................n_neighbors=4;, score=-0.631 total time=   0.0s\n",
            "[CV 3/5] END ....................n_neighbors=4;, score=-1.458 total time=   0.0s\n",
            "[CV 4/5] END ....................n_neighbors=4;, score=-0.531 total time=   0.0s\n",
            "[CV 5/5] END ....................n_neighbors=4;, score=-0.281 total time=   0.0s\n",
            "[CV 1/5] END ....................n_neighbors=5;, score=-0.697 total time=   0.0s\n",
            "[CV 2/5] END ....................n_neighbors=5;, score=-0.476 total time=   0.0s\n",
            "[CV 3/5] END ....................n_neighbors=5;, score=-1.347 total time=   0.0s\n",
            "[CV 4/5] END ....................n_neighbors=5;, score=-0.240 total time=   0.0s\n",
            "[CV 5/5] END ....................n_neighbors=5;, score=-0.600 total time=   0.0s\n",
            "[CV 1/5] END ....................n_neighbors=6;, score=-0.857 total time=   0.0s\n",
            "[CV 2/5] END ....................n_neighbors=6;, score=-0.400 total time=   0.0s\n",
            "[CV 3/5] END ....................n_neighbors=6;, score=-1.019 total time=   0.0s\n",
            "[CV 4/5] END ....................n_neighbors=6;, score=-0.292 total time=   0.0s\n",
            "[CV 5/5] END ....................n_neighbors=6;, score=-0.472 total time=   0.0s\n",
            "[CV 1/5] END ....................n_neighbors=7;, score=-0.824 total time=   0.0s\n",
            "[CV 2/5] END ....................n_neighbors=7;, score=-0.451 total time=   0.0s\n",
            "[CV 3/5] END ....................n_neighbors=7;, score=-0.673 total time=   0.0s\n",
            "[CV 4/5] END ....................n_neighbors=7;, score=-0.255 total time=   0.0s\n",
            "[CV 5/5] END ....................n_neighbors=7;, score=-0.184 total time=   0.0s\n",
            "[CV 1/5] END ....................n_neighbors=8;, score=-0.919 total time=   0.0s\n",
            "[CV 2/5] END ....................n_neighbors=8;, score=-0.399 total time=   0.0s\n",
            "[CV 3/5] END ....................n_neighbors=8;, score=-0.771 total time=   0.0s\n",
            "[CV 4/5] END ....................n_neighbors=8;, score=-0.227 total time=   0.0s\n",
            "[CV 5/5] END ....................n_neighbors=8;, score=-0.383 total time=   0.0s\n",
            "[CV 1/5] END ....................n_neighbors=9;, score=-0.849 total time=   0.0s\n",
            "[CV 2/5] END ....................n_neighbors=9;, score=-0.378 total time=   0.0s\n",
            "[CV 3/5] END ....................n_neighbors=9;, score=-0.893 total time=   0.0s\n",
            "[CV 4/5] END ....................n_neighbors=9;, score=-0.204 total time=   0.0s\n",
            "[CV 5/5] END ....................n_neighbors=9;, score=-0.407 total time=   0.0s\n",
            "[CV 1/5] END ...................n_neighbors=10;, score=-0.781 total time=   0.0s\n",
            "[CV 2/5] END ...................n_neighbors=10;, score=-0.480 total time=   0.0s\n",
            "[CV 3/5] END ...................n_neighbors=10;, score=-0.927 total time=   0.0s\n",
            "[CV 4/5] END ...................n_neighbors=10;, score=-0.065 total time=   0.0s\n",
            "[CV 5/5] END ...................n_neighbors=10;, score=-0.360 total time=   0.0s\n",
            "[CV 1/5] END ...................n_neighbors=11;, score=-0.753 total time=   0.0s\n",
            "[CV 2/5] END ...................n_neighbors=11;, score=-0.432 total time=   0.0s\n",
            "[CV 3/5] END ...................n_neighbors=11;, score=-0.846 total time=   0.0s\n",
            "[CV 4/5] END ....................n_neighbors=11;, score=0.037 total time=   0.0s\n",
            "[CV 5/5] END ...................n_neighbors=11;, score=-0.277 total time=   0.0s\n",
            "[CV 1/5] END ...................n_neighbors=12;, score=-0.714 total time=   0.0s\n",
            "[CV 2/5] END ...................n_neighbors=12;, score=-0.434 total time=   0.0s\n",
            "[CV 3/5] END ...................n_neighbors=12;, score=-0.861 total time=   0.0s\n",
            "[CV 4/5] END ....................n_neighbors=12;, score=0.076 total time=   0.0s\n",
            "[CV 5/5] END ...................n_neighbors=12;, score=-0.142 total time=   0.0s\n",
            "[CV 1/5] END ...................n_neighbors=13;, score=-0.746 total time=   0.0s\n",
            "[CV 2/5] END ...................n_neighbors=13;, score=-0.315 total time=   0.0s\n",
            "[CV 3/5] END ...................n_neighbors=13;, score=-0.771 total time=   0.0s\n",
            "[CV 4/5] END ...................n_neighbors=13;, score=-0.006 total time=   0.0s\n",
            "[CV 5/5] END ...................n_neighbors=13;, score=-0.183 total time=   0.0s\n",
            "[CV 1/5] END ...................n_neighbors=14;, score=-0.765 total time=   0.0s\n",
            "[CV 2/5] END ...................n_neighbors=14;, score=-0.233 total time=   0.0s\n",
            "[CV 3/5] END ...................n_neighbors=14;, score=-0.796 total time=   0.0s\n",
            "[CV 4/5] END ...................n_neighbors=14;, score=-0.010 total time=   0.0s\n",
            "[CV 5/5] END ...................n_neighbors=14;, score=-0.207 total time=   0.0s\n",
            "[CV 1/5] END ...................n_neighbors=15;, score=-0.757 total time=   0.0s\n",
            "[CV 2/5] END ...................n_neighbors=15;, score=-0.168 total time=   0.0s\n",
            "[CV 3/5] END ...................n_neighbors=15;, score=-0.748 total time=   0.0s\n",
            "[CV 4/5] END ....................n_neighbors=15;, score=0.024 total time=   0.0s\n",
            "[CV 5/5] END ...................n_neighbors=15;, score=-0.244 total time=   0.0s\n",
            "[CV 1/5] END ...................n_neighbors=16;, score=-0.848 total time=   0.0s\n",
            "[CV 2/5] END ...................n_neighbors=16;, score=-0.146 total time=   0.0s\n",
            "[CV 3/5] END ...................n_neighbors=16;, score=-0.674 total time=   0.0s\n",
            "[CV 4/5] END ....................n_neighbors=16;, score=0.025 total time=   0.0s\n",
            "[CV 5/5] END ...................n_neighbors=16;, score=-0.227 total time=   0.0s\n",
            "[CV 1/5] END ...................n_neighbors=17;, score=-0.891 total time=   0.0s\n",
            "[CV 2/5] END ...................n_neighbors=17;, score=-0.183 total time=   0.0s\n",
            "[CV 3/5] END ...................n_neighbors=17;, score=-0.571 total time=   0.0s\n",
            "[CV 4/5] END ...................n_neighbors=17;, score=-0.033 total time=   0.0s\n",
            "[CV 5/5] END ...................n_neighbors=17;, score=-0.175 total time=   0.0s\n",
            "[CV 1/5] END ...................n_neighbors=18;, score=-0.899 total time=   0.0s\n",
            "[CV 2/5] END ...................n_neighbors=18;, score=-0.100 total time=   0.0s\n",
            "[CV 3/5] END ...................n_neighbors=18;, score=-0.687 total time=   0.0s\n",
            "[CV 4/5] END ...................n_neighbors=18;, score=-0.035 total time=   0.0s\n",
            "[CV 5/5] END ...................n_neighbors=18;, score=-0.165 total time=   0.0s\n",
            "[CV 1/5] END ...................n_neighbors=19;, score=-0.829 total time=   0.0s\n",
            "[CV 2/5] END ...................n_neighbors=19;, score=-0.056 total time=   0.0s\n",
            "[CV 3/5] END ...................n_neighbors=19;, score=-0.723 total time=   0.0s\n",
            "[CV 4/5] END ...................n_neighbors=19;, score=-0.003 total time=   0.0s\n",
            "[CV 5/5] END ...................n_neighbors=19;, score=-0.125 total time=   0.0s\n",
            "[CV 1/5] END ...................n_neighbors=20;, score=-0.742 total time=   0.0s\n",
            "[CV 2/5] END ...................n_neighbors=20;, score=-0.062 total time=   0.0s\n",
            "[CV 3/5] END ...................n_neighbors=20;, score=-0.740 total time=   0.0s\n",
            "[CV 4/5] END ...................n_neighbors=20;, score=-0.005 total time=   0.0s\n",
            "[CV 5/5] END ...................n_neighbors=20;, score=-0.084 total time=   0.0s\n",
            "[CV 1/5] END ...................n_neighbors=21;, score=-0.638 total time=   0.0s\n",
            "[CV 2/5] END ...................n_neighbors=21;, score=-0.008 total time=   0.0s\n",
            "[CV 3/5] END ...................n_neighbors=21;, score=-0.761 total time=   0.0s\n",
            "[CV 4/5] END ...................n_neighbors=21;, score=-0.002 total time=   0.0s\n",
            "[CV 5/5] END ...................n_neighbors=21;, score=-0.026 total time=   0.0s\n",
            "[CV 1/5] END ...................n_neighbors=22;, score=-0.682 total time=   0.0s\n",
            "[CV 2/5] END ....................n_neighbors=22;, score=0.005 total time=   0.0s\n",
            "[CV 3/5] END ...................n_neighbors=22;, score=-0.751 total time=   0.0s\n",
            "[CV 4/5] END ...................n_neighbors=22;, score=-0.024 total time=   0.0s\n",
            "[CV 5/5] END ...................n_neighbors=22;, score=-0.028 total time=   0.0s\n",
            "[CV 1/5] END ...................n_neighbors=23;, score=-0.650 total time=   0.0s\n",
            "[CV 2/5] END ....................n_neighbors=23;, score=0.015 total time=   0.0s\n",
            "[CV 3/5] END ...................n_neighbors=23;, score=-0.762 total time=   0.0s\n",
            "[CV 4/5] END ...................n_neighbors=23;, score=-0.047 total time=   0.0s\n",
            "[CV 5/5] END ...................n_neighbors=23;, score=-0.006 total time=   0.0s\n",
            "[CV 1/5] END ...................n_neighbors=24;, score=-0.724 total time=   0.0s\n",
            "[CV 2/5] END ....................n_neighbors=24;, score=0.023 total time=   0.0s\n",
            "[CV 3/5] END ...................n_neighbors=24;, score=-0.674 total time=   0.0s\n",
            "[CV 4/5] END ...................n_neighbors=24;, score=-0.069 total time=   0.0s\n",
            "[CV 5/5] END ....................n_neighbors=24;, score=0.038 total time=   0.0s\n",
            "[CV 1/5] END ...................n_neighbors=25;, score=-0.632 total time=   0.0s\n",
            "[CV 2/5] END ....................n_neighbors=25;, score=0.031 total time=   0.0s\n",
            "[CV 3/5] END ...................n_neighbors=25;, score=-0.629 total time=   0.0s\n",
            "[CV 4/5] END ...................n_neighbors=25;, score=-0.071 total time=   0.0s\n",
            "[CV 5/5] END ...................n_neighbors=25;, score=-0.005 total time=   0.0s\n",
            "[CV 1/5] END ...................n_neighbors=26;, score=-0.700 total time=   0.0s\n",
            "[CV 2/5] END ...................n_neighbors=26;, score=-0.032 total time=   0.0s\n",
            "[CV 3/5] END ...................n_neighbors=26;, score=-0.641 total time=   0.0s\n",
            "[CV 4/5] END ...................n_neighbors=26;, score=-0.044 total time=   0.0s\n",
            "[CV 5/5] END ....................n_neighbors=26;, score=0.017 total time=   0.0s\n",
            "[CV 1/5] END ...................n_neighbors=27;, score=-0.643 total time=   0.0s\n",
            "[CV 2/5] END ...................n_neighbors=27;, score=-0.022 total time=   0.0s\n",
            "[CV 3/5] END ...................n_neighbors=27;, score=-0.667 total time=   0.0s\n",
            "[CV 4/5] END ...................n_neighbors=27;, score=-0.020 total time=   0.0s\n",
            "[CV 5/5] END ...................n_neighbors=27;, score=-0.001 total time=   0.0s\n",
            "[CV 1/5] END ...................n_neighbors=28;, score=-0.680 total time=   0.0s\n",
            "[CV 2/5] END ...................n_neighbors=28;, score=-0.029 total time=   0.0s\n",
            "[CV 3/5] END ...................n_neighbors=28;, score=-0.692 total time=   0.0s\n",
            "[CV 4/5] END ...................n_neighbors=28;, score=-0.038 total time=   0.0s\n",
            "[CV 5/5] END ...................n_neighbors=28;, score=-0.021 total time=   0.0s\n",
            "[CV 1/5] END ...................n_neighbors=29;, score=-0.628 total time=   0.0s\n",
            "[CV 2/5] END ...................n_neighbors=29;, score=-0.006 total time=   0.0s\n",
            "[CV 3/5] END ...................n_neighbors=29;, score=-0.640 total time=   0.0s\n",
            "[CV 4/5] END ...................n_neighbors=29;, score=-0.058 total time=   0.0s\n",
            "[CV 5/5] END ....................n_neighbors=29;, score=0.015 total time=   0.0s\n"
          ]
        },
        {
          "output_type": "execute_result",
          "data": {
            "text/plain": [
              "{'n_neighbors': 25}"
            ]
          },
          "metadata": {},
          "execution_count": 69
        }
      ]
    },
    {
      "cell_type": "code",
      "source": [
        "train_preds_grid_knn = gridsearch.predict(X_train_knn)\n",
        "train_mse = mean_squared_error(y_train_knn, train_preds_grid_knn)\n",
        "train_rmse = np.sqrt(train_mse)\n",
        "test_preds_grid_knn = gridsearch.predict(X_test_knn)\n",
        "test_mse = mean_squared_error(y_test_knn, test_preds_grid_knn)\n",
        "test_rmse = np.sqrt(test_mse)\n",
        "print(train_rmse)\n",
        "print(test_rmse)"
      ],
      "metadata": {
        "colab": {
          "base_uri": "https://localhost:8080/"
        },
        "id": "OjdafHATATJ9",
        "outputId": "e924ae1c-7105-4bc2-eb2d-829ff474ce46"
      },
      "execution_count": 72,
      "outputs": [
        {
          "output_type": "stream",
          "name": "stdout",
          "text": [
            "0.5022994743226016\n",
            "0.49593906435726115\n"
          ]
        }
      ]
    },
    {
      "cell_type": "code",
      "source": [
        "best_k = gridsearch.best_params_[\"n_neighbors\"]\n",
        "# best_weights = gridsearch.best_params_[\"weights\"]\n",
        "bagged_knn = KNeighborsRegressor(\n",
        "    n_neighbors=best_k\n",
        ")"
      ],
      "metadata": {
        "id": "1xBJFd5hA6Es"
      },
      "execution_count": 78,
      "outputs": []
    },
    {
      "cell_type": "code",
      "source": [
        "from sklearn.ensemble import BaggingRegressor\n",
        "bagging_model = BaggingRegressor(bagged_knn, n_estimators=100)\n",
        "bagging_model.fit(X_train, y_train)"
      ],
      "metadata": {
        "colab": {
          "base_uri": "https://localhost:8080/"
        },
        "id": "JCzBA1A8Bwkt",
        "outputId": "46b4b8c0-802a-4417-cac8-e4014e8dc6ce"
      },
      "execution_count": 79,
      "outputs": [
        {
          "output_type": "execute_result",
          "data": {
            "text/plain": [
              "BaggingRegressor(base_estimator=KNeighborsRegressor(n_neighbors=25),\n",
              "                 n_estimators=100)"
            ]
          },
          "metadata": {},
          "execution_count": 79
        }
      ]
    },
    {
      "cell_type": "code",
      "source": [
        "test_preds_grid = bagging_model.predict(X_test)\n",
        "test_mse = mean_squared_error(y_test, test_preds_grid)\n",
        "test_rmse = np.sqrt(test_mse)\n",
        "test_rmse"
      ],
      "metadata": {
        "colab": {
          "base_uri": "https://localhost:8080/"
        },
        "id": "C8Oku6ISBzqJ",
        "outputId": "7c97d62c-d354-427a-e45e-445fcc889fdd"
      },
      "execution_count": 80,
      "outputs": [
        {
          "output_type": "execute_result",
          "data": {
            "text/plain": [
              "0.5295049260079331"
            ]
          },
          "metadata": {},
          "execution_count": 80
        }
      ]
    }
  ]
}