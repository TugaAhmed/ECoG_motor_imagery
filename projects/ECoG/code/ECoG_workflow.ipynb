{
  "nbformat": 4,
  "nbformat_minor": 0,
  "metadata": {
    "colab": {
      "name": "ECoG_workflow.ipynb",
      "provenance": [],
      "collapsed_sections": []
    },
    "kernelspec": {
      "name": "python3",
      "display_name": "Python 3"
    },
    "language_info": {
      "name": "python"
    }
  },
  "cells": [
    {
      "cell_type": "code",
      "execution_count": 1,
      "metadata": {
        "id": "Kw-69LkIRVgk"
      },
      "outputs": [],
      "source": [
        "# @title Data retrieval\n",
        "import os, requests\n",
        "#download data \n",
        "fname = 'motor_imagery.npz'\n",
        "url = \"https://osf.io/ksqv8/download\"\n",
        "\n",
        "if not os.path.isfile(fname):\n",
        "  try:\n",
        "    r = requests.get(url)\n",
        "  except requests.ConnectionError:\n",
        "    print(\"!!! Failed to download data !!!\")\n",
        "  else:\n",
        "    if r.status_code != requests.codes.ok:\n",
        "      print(\"!!! Failed to download data !!!\")\n",
        "    else:\n",
        "      with open(fname, \"wb\") as fid:\n",
        "        fid.write(r.content)"
      ]
    },
    {
      "cell_type": "code",
      "source": [
        "# @title Install packages (`nilearn`, `nimare`. `duecredit`), import `matplotlib` and set defaults\n",
        "# install packages to visualize brains and electrode locations\n",
        "!pip install nilearn --quiet\n",
        "!pip install nimare --quiet\n",
        "!pip install duecredit --quiet\n",
        "\n",
        "from matplotlib import rcParams\n",
        "from matplotlib import pyplot as plt\n",
        "import pandas as pd \n",
        "from sklearn import datasets\n",
        "from sklearn import svm\n",
        "import numpy as np\n",
        "from sklearn.metrics import mean_squared_error, mean_absolute_error , confusion_matrix, accuracy_score\n",
        "\n",
        "rcParams['figure.figsize'] = [20, 4]\n",
        "rcParams['font.size'] = 15\n",
        "rcParams['axes.spines.top'] = False\n",
        "rcParams['axes.spines.right'] = False\n",
        "rcParams['figure.autolayout'] = True"
      ],
      "metadata": {
        "id": "6dNAyx2CR33j",
        "colab": {
          "base_uri": "https://localhost:8080/"
        },
        "outputId": "4aee862f-c50c-49fd-80f7-53aa1e5277eb"
      },
      "execution_count": 2,
      "outputs": [
        {
          "output_type": "stream",
          "name": "stdout",
          "text": [
            "\u001b[K     |████████████████████████████████| 9.6 MB 4.0 MB/s \n",
            "\u001b[K     |████████████████████████████████| 13.3 MB 2.4 MB/s \n",
            "\u001b[K     |████████████████████████████████| 3.2 MB 46.8 MB/s \n",
            "\u001b[?25h  Building wheel for cognitiveatlas (setup.py) ... \u001b[?25l\u001b[?25hdone\n",
            "\u001b[K     |████████████████████████████████| 86 kB 2.7 MB/s \n",
            "\u001b[K     |████████████████████████████████| 179 kB 28.9 MB/s \n",
            "\u001b[?25h"
          ]
        }
      ]
    },
    {
      "cell_type": "code",
      "source": [
        "# @title Data loading\n",
        "import numpy as np\n",
        "from pickle import TRUE\n",
        "alldat = np.load(fname, allow_pickle=True)['dat']\n",
        "\n",
        "# select just one of the recordings here. 11 is nice because it has some neurons in vis ctx.\n",
        "dat1 = alldat[0][0]\n",
        "dat2 = alldat[0][1]\n",
        "# get trial number\n",
        "# print(len(dat1['stim_id']))\n",
        "\n",
        "#get trial number\n",
        "# print(alldat.shape)"
      ],
      "metadata": {
        "id": "94lIB0c6SCHT"
      },
      "execution_count": 3,
      "outputs": []
    },
    {
      "cell_type": "code",
      "source": [
        "# function to get subsets of data\n",
        "def get_sub_dat(alldata, sub_id, exp_id):\n",
        "  return alldata[sub_id][exp_id]"
      ],
      "metadata": {
        "id": "wmZDU6rRSXEF"
      },
      "execution_count": 4,
      "outputs": []
    },
    {
      "cell_type": "code",
      "source": [
        "def dftime_win(dat):\n",
        "  data = {'t_on': dat['t_on'], 't_off': dat['t_off'], 'stim_id': dat['stim_id']}\n",
        "  dftime = pd.DataFrame(data)\n",
        "  return dftime"
      ],
      "metadata": {
        "id": "ohz34I38Tq6j"
      },
      "execution_count": 5,
      "outputs": []
    },
    {
      "cell_type": "code",
      "source": [
        "def dat_frame_t(dat, channel_n = 46):\n",
        "  #get dft\n",
        "  a = dat['V']\n",
        "  epoch_id=[]\n",
        "  for i in range(channel_n):\n",
        "    epoch_id.append(i+1)\n",
        "  epoch_id_array = np.array(epoch_id)\n",
        "  df = pd.DataFrame(a, columns=epoch_id)\n",
        "  dft = df.T\n",
        "  return dft"
      ],
      "metadata": {
        "id": "ZHvc4oSjT5Gl"
      },
      "execution_count": 6,
      "outputs": []
    },
    {
      "cell_type": "code",
      "source": [
        "#generate X for SVM\n",
        "def slice_chan_dat(dft,dftime,channel_i):\n",
        "  chan_i = dft.loc[channel_i]\n",
        "  chan_array = []\n",
        "  for j in range (0, len(dftime)):\n",
        "    chan_array.append(chan_i[dftime[\"t_on\"][j]: dftime[\"t_off\"][j]])\n",
        "  # print(chan_array.shape)\n",
        "  # ar_chan_i = chan_array.values\n",
        "  result = np.array([np.array(xi) for xi in chan_array])\n",
        "  return result"
      ],
      "metadata": {
        "id": "giYz6AVDTjqi"
      },
      "execution_count": 7,
      "outputs": []
    },
    {
      "cell_type": "code",
      "source": [
        "#generate y for SVM\n",
        "def get_y_val(subdat):\n",
        "  y = subdat['stim_id']\n",
        "  return y"
      ],
      "metadata": {
        "id": "otD9FxChTkax"
      },
      "execution_count": 8,
      "outputs": []
    },
    {
      "cell_type": "code",
      "source": [
        "#recode all the label of the stimulus id\n",
        "def label_recode(dataf):\n",
        "  new_stim_id_array = np.zeros(60)\n",
        "  for stim_id , i in zip(dataf['stim_id'],range(0,60)) :\n",
        "    if stim_id == 11 :\n",
        "      new_stim_id_array[i] = 0\n",
        "    else :\n",
        "      new_stim_id_array[i] = 1\n",
        "    return new_stim_id_array"
      ],
      "metadata": {
        "id": "FvEnMtytbVRb"
      },
      "execution_count": 9,
      "outputs": []
    },
    {
      "cell_type": "code",
      "source": [
        "#get data from subject 0, experiment 0\n",
        "dat = get_sub_dat(alldat, 0, 0)\n",
        "datf = dat_frame_t(dat, channel_n = 46)\n",
        "dftime = dftime_win(dat)\n",
        "# get X and y input for the SVM\n",
        "X1 = slice_chan_dat(datf, dftime, 44)\n",
        "X2 = slice_chan_dat(datf, dftime, 30)\n",
        "y = get_y_val(dat)\n",
        "# y = label_recode(dat)\n",
        "# print(dat)\n",
        "# X_stack = np.stack((X1, X2), axis=0)"
      ],
      "metadata": {
        "id": "uJp0oB_nUp60"
      },
      "execution_count": 11,
      "outputs": []
    },
    {
      "cell_type": "code",
      "source": [
        ""
      ],
      "metadata": {
        "colab": {
          "base_uri": "https://localhost:8080/"
        },
        "id": "FF_NIoUfPSC9",
        "outputId": "9a6ac34c-9980-4a97-9b49-1480f7c83d5a"
      },
      "execution_count": 13,
      "outputs": [
        {
          "output_type": "stream",
          "name": "stdout",
          "text": [
            "[[-2.375  -2.426  -2.34   ...  0.4834  0.611   0.6304]\n",
            " [-0.534  -0.5444 -0.4182 ...  0.7676  0.897   0.9385]\n",
            " [-2.016  -2.078  -2.002  ...  1.211   1.275   1.172 ]\n",
            " ...\n",
            " [ 0.474   0.4614  0.3918 ...  0.55    0.5884  0.6714]\n",
            " [-1.405  -1.316  -1.309  ... -1.19   -1.177  -1.132 ]\n",
            " [ 1.412   1.322   1.125  ...  1.333   1.345   1.301 ]]\n",
            "[[-1.464  -1.461  -1.378  ...  1.719   1.773   1.766 ]\n",
            " [-2.803  -2.854  -2.775  ...  1.076   1.186   1.183 ]\n",
            " [ 1.185   1.177   1.21   ...  0.4773  0.507   0.3508]\n",
            " ...\n",
            " [ 0.1771  0.2197  0.2362 ... -0.647  -0.6543 -0.5967]\n",
            " [ 0.3496  0.376   0.39   ... -0.625  -0.6323 -0.6294]\n",
            " [ 1.159   1.169   1.142  ...  0.863   0.8945  0.913 ]]\n"
          ]
        }
      ]
    },
    {
      "cell_type": "code",
      "source": [
        "clf = svm.SVC(gamma=0.001 , C=100)\n",
        "clf.fit(X1[0:50,:],y[:50])"
      ],
      "metadata": {
        "colab": {
          "base_uri": "https://localhost:8080/"
        },
        "id": "YttyopIgW5t4",
        "outputId": "da6249a1-72ad-4e2e-c59a-f9cd9951f556"
      },
      "execution_count": null,
      "outputs": [
        {
          "output_type": "execute_result",
          "data": {
            "text/plain": [
              "SVC(C=100, gamma=0.001)"
            ]
          },
          "metadata": {},
          "execution_count": 86
        }
      ]
    },
    {
      "cell_type": "code",
      "source": [
        "#!!!DONT RUN!!! find feature selection library, still doing\n",
        "def channel_comp(dat, channel_n):\n",
        "  eligible_chan_id = []\n",
        "  datf = dat_frame_t(dat, channel_n = 46)\n",
        "  dftime = dftime_win(dat)\n",
        "  for i in range(channel_n):\n",
        "    for j in range(channel_n):\n",
        "      X1 = slice_chan_dat(datf, dftime, i)\n",
        "      X2 = slice_chan_dat(datf, dftime, j)\n",
        "      y = get_y_val(dat)\n",
        "  return eligible_chan_id"
      ],
      "metadata": {
        "id": "Ect8GhykeIWx"
      },
      "execution_count": null,
      "outputs": []
    }
  ]
}