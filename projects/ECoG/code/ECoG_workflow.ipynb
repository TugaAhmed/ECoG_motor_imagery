{
  "nbformat": 4,
  "nbformat_minor": 0,
  "metadata": {
    "colab": {
      "name": "ECoG_workflow.ipynb",
      "provenance": [],
      "collapsed_sections": []
    },
    "kernelspec": {
      "name": "python3",
      "display_name": "Python 3"
    },
    "language_info": {
      "name": "python"
    }
  },
  "cells": [
    {
      "cell_type": "code",
      "execution_count": 1,
      "metadata": {
        "id": "Kw-69LkIRVgk",
        "cellView": "form"
      },
      "outputs": [],
      "source": [
        "# @title Data retrieval\n",
        "import os, requests\n",
        "#download data \n",
        "fname = 'motor_imagery.npz'\n",
        "url = \"https://osf.io/ksqv8/download\"\n",
        "\n",
        "if not os.path.isfile(fname):\n",
        "  try:\n",
        "    r = requests.get(url)\n",
        "  except requests.ConnectionError:\n",
        "    print(\"!!! Failed to download data !!!\")\n",
        "  else:\n",
        "    if r.status_code != requests.codes.ok:\n",
        "      print(\"!!! Failed to download data !!!\")\n",
        "    else:\n",
        "      with open(fname, \"wb\") as fid:\n",
        "        fid.write(r.content)"
      ]
    },
    {
      "cell_type": "code",
      "source": [
        "# @title Install packages (`nilearn`, `nimare`. `duecredit`), import `matplotlib` and set defaults\n",
        "# install packages to visualize brains and electrode locations\n",
        "!pip install nilearn --quiet\n",
        "!pip install nimare --quiet\n",
        "!pip install duecredit --quiet\n",
        "\n",
        "from matplotlib import rcParams\n",
        "from matplotlib import pyplot as plt\n",
        "import pandas as pd \n",
        "from sklearn import datasets\n",
        "from sklearn import svm\n",
        "import numpy as np\n",
        "from sklearn.metrics import mean_squared_error, mean_absolute_error , confusion_matrix, accuracy_score\n",
        "\n",
        "rcParams['figure.figsize'] = [20, 4]\n",
        "rcParams['font.size'] = 15\n",
        "rcParams['axes.spines.top'] = False\n",
        "rcParams['axes.spines.right'] = False\n",
        "rcParams['figure.autolayout'] = True"
      ],
      "metadata": {
        "id": "6dNAyx2CR33j",
        "colab": {
          "base_uri": "https://localhost:8080/"
        },
        "outputId": "b588e0f7-8e6c-4b0f-e119-41babbd01442",
        "cellView": "form"
      },
      "execution_count": 3,
      "outputs": [
        {
          "output_type": "stream",
          "name": "stdout",
          "text": [
            "\u001b[K     |████████████████████████████████| 9.6 MB 4.5 MB/s \n",
            "\u001b[K     |████████████████████████████████| 13.3 MB 5.4 MB/s \n",
            "\u001b[K     |████████████████████████████████| 3.2 MB 35.9 MB/s \n",
            "\u001b[K     |████████████████████████████████| 77 kB 6.1 MB/s \n",
            "\u001b[?25h  Building wheel for cognitiveatlas (setup.py) ... \u001b[?25l\u001b[?25hdone\n",
            "\u001b[K     |████████████████████████████████| 86 kB 2.7 MB/s \n",
            "\u001b[K     |████████████████████████████████| 179 kB 36.3 MB/s \n",
            "\u001b[?25h"
          ]
        }
      ]
    },
    {
      "cell_type": "code",
      "source": [
        "# @title Data loading\n",
        "import numpy as np\n",
        "from pickle import TRUE\n",
        "alldat = np.load(fname, allow_pickle=True)['dat']\n",
        "\n",
        "# select just one of the recordings here. 11 is nice because it has some neurons in vis ctx.\n",
        "dat1 = alldat[0][0]\n",
        "dat2 = alldat[0][1]\n",
        "# get trial number\n",
        "# print(len(dat1['stim_id']))\n",
        "\n",
        "#get trial number\n",
        "# print(alldat.shape)"
      ],
      "metadata": {
        "id": "94lIB0c6SCHT",
        "cellView": "form"
      },
      "execution_count": 4,
      "outputs": []
    },
    {
      "cell_type": "code",
      "source": [
        "# function to get subsets of data\n",
        "def get_sub_dat(alldata, sub_id, exp_id):\n",
        "  return alldata[sub_id][exp_id]"
      ],
      "metadata": {
        "id": "wmZDU6rRSXEF"
      },
      "execution_count": 5,
      "outputs": []
    },
    {
      "cell_type": "code",
      "source": [
        "def dftime_win(dat):\n",
        "  data = {'t_on': dat['t_on'], 't_off': dat['t_off'], 'stim_id': dat['stim_id']}\n",
        "  dftime = pd.DataFrame(data)\n",
        "  return dftime"
      ],
      "metadata": {
        "id": "ohz34I38Tq6j"
      },
      "execution_count": 6,
      "outputs": []
    },
    {
      "cell_type": "code",
      "source": [
        "def dat_frame_t(dat, channel_n = 46):\n",
        "  #get dft\n",
        "  a = dat['V']\n",
        "  epoch_id=[]\n",
        "  for i in range(channel_n):\n",
        "    epoch_id.append(i+1)\n",
        "  epoch_id_array = np.array(epoch_id)\n",
        "  df = pd.DataFrame(a, columns=epoch_id)\n",
        "  dft = df.T\n",
        "  return dft"
      ],
      "metadata": {
        "id": "ZHvc4oSjT5Gl"
      },
      "execution_count": 7,
      "outputs": []
    },
    {
      "cell_type": "code",
      "source": [
        "#generate X for SVM\n",
        "def slice_chan_dat(dft,dftime,channel_i):\n",
        "  chan_i = dft.loc[channel_i]\n",
        "  chan_array = []\n",
        "  for j in range (0, len(dftime)):\n",
        "    chan_array.append(chan_i[dftime[\"t_on\"][j]: dftime[\"t_off\"][j]])\n",
        "  # print(chan_array.shape)\n",
        "  # ar_chan_i = chan_array.values\n",
        "  result = np.array([np.array(xi) for xi in chan_array])\n",
        "  return result"
      ],
      "metadata": {
        "id": "giYz6AVDTjqi"
      },
      "execution_count": 8,
      "outputs": []
    },
    {
      "cell_type": "code",
      "source": [
        "#generate y for SVM\n",
        "def get_y_val(subdat):\n",
        "  y = subdat['stim_id']\n",
        "  return y"
      ],
      "metadata": {
        "id": "otD9FxChTkax"
      },
      "execution_count": 9,
      "outputs": []
    },
    {
      "cell_type": "code",
      "source": [
        "#recode all the label of the stimulus id\n",
        "def label_recode(dataf):\n",
        "  new_stim_id_array = np.zeros(60)\n",
        "  for stim_id , i in zip(dataf['stim_id'],range(0,60)) :\n",
        "    if stim_id == 11 :\n",
        "      new_stim_id_array[i] = 0\n",
        "    else :\n",
        "      new_stim_id_array[i] = 1\n",
        "    return new_stim_id_array"
      ],
      "metadata": {
        "id": "FvEnMtytbVRb"
      },
      "execution_count": 10,
      "outputs": []
    },
    {
      "cell_type": "code",
      "source": [
        "def get_new_stim_id_array(dat_name, length=60):\n",
        "  new_stim_id_array = np.zeros(60)\n",
        "  for stim_id , i in zip(dat2['stim_id'],range(0,60)) :\n",
        "    if stim_id == 11 :\n",
        "      new_stim_id_array[i] = 0\n",
        "    else :\n",
        "      new_stim_id_array[i] = 1\n",
        "  return new_stim_id_array"
      ],
      "metadata": {
        "id": "TFolL6Erbdjs"
      },
      "execution_count": 15,
      "outputs": []
    },
    {
      "cell_type": "code",
      "source": [
        "#get data from subject 0, experiment 0\n",
        "dat = get_sub_dat(alldat, 0, 0)\n",
        "datf = dat_frame_t(dat, channel_n = 46)\n",
        "dftime = dftime_win(dat)\n",
        "# get X and y input for the SVM\n",
        "X1 = slice_chan_dat(datf, dftime, 44)\n",
        "X2 = slice_chan_dat(datf, dftime, 30)\n",
        "y_id = get_y_val(dat)\n",
        "y = get_new_stim_id_array(dat, length=60)\n",
        "# y = label_recode(dat)\n",
        "# print(dat)\n",
        "# X_stack = np.stack((X1, X2), axis=0)"
      ],
      "metadata": {
        "id": "uJp0oB_nUp60"
      },
      "execution_count": 61,
      "outputs": []
    },
    {
      "cell_type": "code",
      "source": [
        "# tests\n",
        "# print(X1.shape)\n",
        "# print(y.shape)\n",
        "# print(y[59]"
      ],
      "metadata": {
        "id": "87hu6a7QbVy3"
      },
      "execution_count": 62,
      "outputs": []
    },
    {
      "cell_type": "markdown",
      "source": [
        "In the next part, we will feed the transformed data into a Support Vector Machine Model."
      ],
      "metadata": {
        "id": "wuCOK2XcaNFd"
      }
    },
    {
      "cell_type": "code",
      "source": [
        "x = X1\n",
        "y = y\n",
        "# x_t = X1.T\n",
        "# x_t_downsamp = x_t[::5]\n",
        "# x_downsamp = x_t_downsamp.T"
      ],
      "metadata": {
        "colab": {
          "base_uri": "https://localhost:8080/"
        },
        "id": "SM7H4sesbRdS",
        "outputId": "74d0875b-fc03-47a5-f98e-a2ea37e6266a"
      },
      "execution_count": 60,
      "outputs": [
        {
          "output_type": "execute_result",
          "data": {
            "text/plain": [
              "(60, 56)"
            ]
          },
          "metadata": {},
          "execution_count": 60
        }
      ]
    },
    {
      "cell_type": "code",
      "source": [
        "def down_sample(X, desired_len = 55):\n",
        "  # transpose matrix\n",
        "  x_t = X.T\n",
        "  # slice the matrix\n",
        "  x_t_downsamp = x_t[::X.shape[1]//desired_len]\n",
        "  # transpose the matrix back to normal\n",
        "  x_downsamp = x_t_downsamp.T\n",
        "  return x_downsamp\n",
        "# print(x_downsamp.shape)\n",
        "down_sample(x).shape"
      ],
      "metadata": {
        "id": "pPDTxYWDhxVx"
      },
      "execution_count": null,
      "outputs": []
    },
    {
      "cell_type": "code",
      "source": [
        "def SVM_ECoG(X, y, down_samp=False, down_samp_len=3000, gam=0.001, C_value=100, test_dat_size=10):\n",
        "  clf = svm.SVC(gamma=gam , C=C_value)\n",
        "  if down_samp==False:\n",
        "    clf.fit(X[0:50,:],y[:50])\n",
        "    x_to_predict = X[X.shape[0]-1].reshape(1, X.shape[1])\n",
        "    y_test = y[-test_dat_size : ]\n",
        "    y_pred = [clf.predict(X[-i].reshape(-1, X.shape[1]))[0] for i in range(1,test_dat_size+1)]\n",
        "    mse_dt = mean_squared_error(y_test, y_pred)\n",
        "    accuracy = accuracy_score(y_test,y_pred)*100\n",
        "  else:\n",
        "    #downsample\n",
        "    X_down = down_sample(X, desired_len = down_samp_len)\n",
        "    clf.fit(X_down[0:50,:],y[:50])\n",
        "    x_to_predict = X_down[X_down.shape[0]-1].reshape(1, X_down.shape[1])\n",
        "    y_test = y[-test_dat_size : ]\n",
        "    y_pred = [clf.predict(X_down[-i].reshape(-1, X_down.shape[1]))[0] for i in range(1,test_dat_size+1)]\n",
        "    mse_dt = mean_squared_error(y_test, y_pred)\n",
        "    accuracy = accuracy_score(y_test,y_pred)*100\n",
        "  return mse_dt, accuracy"
      ],
      "metadata": {
        "id": "Jx_nqLDBduED"
      },
      "execution_count": 126,
      "outputs": []
    },
    {
      "cell_type": "code",
      "source": [
        "# SVM_ECoG(x, y, down_samp=False, down_samp_len=None, gam=0.001, C_value=100, test_dat_size=10)\n",
        "SVM_ECoG(x, y, down_samp=True, down_samp_len=157, gam=0.001, C_value=100, test_dat_size=40)"
      ],
      "metadata": {
        "colab": {
          "base_uri": "https://localhost:8080/"
        },
        "id": "UioErYWbfNq6",
        "outputId": "aca6f9a3-d360-4756-a035-0eb3cd782518"
      },
      "execution_count": 128,
      "outputs": [
        {
          "output_type": "execute_result",
          "data": {
            "text/plain": [
              "(0.35, 65.0)"
            ]
          },
          "metadata": {},
          "execution_count": 128
        }
      ]
    },
    {
      "cell_type": "code",
      "source": [
        "def get_max_row(dat_fram, pick_max=True, value=None):\n",
        "  if pick_max==True:\n",
        "    max_val = dat_fram.max()[1]\n",
        "    result = dat_fram.loc[dat_fram['Accuracy'] == max_val]\n",
        "  else:\n",
        "    result = dat_fram.loc[dat_fram['Accuracy'] == value]\n",
        "  return result"
      ],
      "metadata": {
        "id": "YbdZhHuDs8ig"
      },
      "execution_count": 112,
      "outputs": []
    },
    {
      "cell_type": "markdown",
      "source": [
        "Now we visualize the SVM performance with different down sample sizes."
      ],
      "metadata": {
        "id": "GzCqfM8_qE-z"
      }
    },
    {
      "cell_type": "code",
      "source": [
        "# evaluate model by down_sampling\n",
        "# 窮舉法\n",
        "op_df = pd.DataFrame()\n",
        "for i in range(1,x.shape[1]):\n",
        "  result = SVM_ECoG(x, y, down_samp=True, down_samp_len=i, gam=0.001, C_value=100)\n",
        "  op_sub_df = pd.DataFrame({'Sample Size' : [i], 'Accuracy' : result[1]})\n",
        "  op_df = pd.concat([op_df, op_sub_df], axis=0)\n",
        "# 梯度下降法"
      ],
      "metadata": {
        "id": "2NTAae1ukaby"
      },
      "execution_count": 90,
      "outputs": []
    },
    {
      "cell_type": "code",
      "source": [
        "# op_df.plot(x ='Sample Size', y='Accuracy', kind = 'scatter')"
      ],
      "metadata": {
        "id": "FP1XZvKWpKdN"
      },
      "execution_count": 129,
      "outputs": []
    },
    {
      "cell_type": "code",
      "source": [
        "# op_df.plot(x ='Sample Size', y='Accuracy', kind = 'line')"
      ],
      "metadata": {
        "id": "-mAhkAz7nE8a"
      },
      "execution_count": 130,
      "outputs": []
    },
    {
      "cell_type": "code",
      "source": [
        "# test get_max_row\n",
        "get_max_row(op_df)\n",
        "# get_max_row(op_df, pick_max=False, value=60)"
      ],
      "metadata": {
        "colab": {
          "base_uri": "https://localhost:8080/",
          "height": 81
        },
        "id": "MIdeqeyosP03",
        "outputId": "47927706-2995-45a3-f9cf-f9dd52edaf75"
      },
      "execution_count": 131,
      "outputs": [
        {
          "output_type": "execute_result",
          "data": {
            "text/plain": [
              "   Sample Size  Accuracy\n",
              "0           12      80.0"
            ],
            "text/html": [
              "\n",
              "  <div id=\"df-36c8d312-ea77-4f95-8113-dffd66ee2afe\">\n",
              "    <div class=\"colab-df-container\">\n",
              "      <div>\n",
              "<style scoped>\n",
              "    .dataframe tbody tr th:only-of-type {\n",
              "        vertical-align: middle;\n",
              "    }\n",
              "\n",
              "    .dataframe tbody tr th {\n",
              "        vertical-align: top;\n",
              "    }\n",
              "\n",
              "    .dataframe thead th {\n",
              "        text-align: right;\n",
              "    }\n",
              "</style>\n",
              "<table border=\"1\" class=\"dataframe\">\n",
              "  <thead>\n",
              "    <tr style=\"text-align: right;\">\n",
              "      <th></th>\n",
              "      <th>Sample Size</th>\n",
              "      <th>Accuracy</th>\n",
              "    </tr>\n",
              "  </thead>\n",
              "  <tbody>\n",
              "    <tr>\n",
              "      <th>0</th>\n",
              "      <td>12</td>\n",
              "      <td>80.0</td>\n",
              "    </tr>\n",
              "  </tbody>\n",
              "</table>\n",
              "</div>\n",
              "      <button class=\"colab-df-convert\" onclick=\"convertToInteractive('df-36c8d312-ea77-4f95-8113-dffd66ee2afe')\"\n",
              "              title=\"Convert this dataframe to an interactive table.\"\n",
              "              style=\"display:none;\">\n",
              "        \n",
              "  <svg xmlns=\"http://www.w3.org/2000/svg\" height=\"24px\"viewBox=\"0 0 24 24\"\n",
              "       width=\"24px\">\n",
              "    <path d=\"M0 0h24v24H0V0z\" fill=\"none\"/>\n",
              "    <path d=\"M18.56 5.44l.94 2.06.94-2.06 2.06-.94-2.06-.94-.94-2.06-.94 2.06-2.06.94zm-11 1L8.5 8.5l.94-2.06 2.06-.94-2.06-.94L8.5 2.5l-.94 2.06-2.06.94zm10 10l.94 2.06.94-2.06 2.06-.94-2.06-.94-.94-2.06-.94 2.06-2.06.94z\"/><path d=\"M17.41 7.96l-1.37-1.37c-.4-.4-.92-.59-1.43-.59-.52 0-1.04.2-1.43.59L10.3 9.45l-7.72 7.72c-.78.78-.78 2.05 0 2.83L4 21.41c.39.39.9.59 1.41.59.51 0 1.02-.2 1.41-.59l7.78-7.78 2.81-2.81c.8-.78.8-2.07 0-2.86zM5.41 20L4 18.59l7.72-7.72 1.47 1.35L5.41 20z\"/>\n",
              "  </svg>\n",
              "      </button>\n",
              "      \n",
              "  <style>\n",
              "    .colab-df-container {\n",
              "      display:flex;\n",
              "      flex-wrap:wrap;\n",
              "      gap: 12px;\n",
              "    }\n",
              "\n",
              "    .colab-df-convert {\n",
              "      background-color: #E8F0FE;\n",
              "      border: none;\n",
              "      border-radius: 50%;\n",
              "      cursor: pointer;\n",
              "      display: none;\n",
              "      fill: #1967D2;\n",
              "      height: 32px;\n",
              "      padding: 0 0 0 0;\n",
              "      width: 32px;\n",
              "    }\n",
              "\n",
              "    .colab-df-convert:hover {\n",
              "      background-color: #E2EBFA;\n",
              "      box-shadow: 0px 1px 2px rgba(60, 64, 67, 0.3), 0px 1px 3px 1px rgba(60, 64, 67, 0.15);\n",
              "      fill: #174EA6;\n",
              "    }\n",
              "\n",
              "    [theme=dark] .colab-df-convert {\n",
              "      background-color: #3B4455;\n",
              "      fill: #D2E3FC;\n",
              "    }\n",
              "\n",
              "    [theme=dark] .colab-df-convert:hover {\n",
              "      background-color: #434B5C;\n",
              "      box-shadow: 0px 1px 3px 1px rgba(0, 0, 0, 0.15);\n",
              "      filter: drop-shadow(0px 1px 2px rgba(0, 0, 0, 0.3));\n",
              "      fill: #FFFFFF;\n",
              "    }\n",
              "  </style>\n",
              "\n",
              "      <script>\n",
              "        const buttonEl =\n",
              "          document.querySelector('#df-36c8d312-ea77-4f95-8113-dffd66ee2afe button.colab-df-convert');\n",
              "        buttonEl.style.display =\n",
              "          google.colab.kernel.accessAllowed ? 'block' : 'none';\n",
              "\n",
              "        async function convertToInteractive(key) {\n",
              "          const element = document.querySelector('#df-36c8d312-ea77-4f95-8113-dffd66ee2afe');\n",
              "          const dataTable =\n",
              "            await google.colab.kernel.invokeFunction('convertToInteractive',\n",
              "                                                     [key], {});\n",
              "          if (!dataTable) return;\n",
              "\n",
              "          const docLinkHtml = 'Like what you see? Visit the ' +\n",
              "            '<a target=\"_blank\" href=https://colab.research.google.com/notebooks/data_table.ipynb>data table notebook</a>'\n",
              "            + ' to learn more about interactive tables.';\n",
              "          element.innerHTML = '';\n",
              "          dataTable['output_type'] = 'display_data';\n",
              "          await google.colab.output.renderOutput(dataTable, element);\n",
              "          const docLink = document.createElement('div');\n",
              "          docLink.innerHTML = docLinkHtml;\n",
              "          element.appendChild(docLink);\n",
              "        }\n",
              "      </script>\n",
              "    </div>\n",
              "  </div>\n",
              "  "
            ]
          },
          "metadata": {},
          "execution_count": 131
        }
      ]
    },
    {
      "cell_type": "markdown",
      "source": [
        "We can get a 80% accuracy if we only pick 12 sample for this channel. Need more investigation."
      ],
      "metadata": {
        "id": "xBOIUHAvswxt"
      }
    },
    {
      "cell_type": "code",
      "source": [
        "op_df_testdat = pd.DataFrame()\n",
        "for i in range(1,len(x)):\n",
        "  result = SVM_ECoG(x, y, down_samp=True, down_samp_len=157, gam=0.001, C_value=100, test_dat_size=i)\n",
        "  op_sub_dat_df = pd.DataFrame({'Test Sample Size' : [i], 'Accuracy' : result[1]})\n",
        "  op_df_testdat = pd.concat([op_df_testdat, op_sub_dat_df], axis=0)\n",
        "get_max_row(op_df_testdat, pick_max=False, value=70)\n",
        "op_df_testdat.plot(x ='Test Sample Size', y='Accuracy', kind = 'line')\n",
        "# print(op_df_testdat)"
      ],
      "metadata": {
        "colab": {
          "base_uri": "https://localhost:8080/",
          "height": 285
        },
        "id": "pK6uvJ5YwCS5",
        "outputId": "a36ac95f-c235-4599-e492-226fd8a15604"
      },
      "execution_count": 138,
      "outputs": [
        {
          "output_type": "execute_result",
          "data": {
            "text/plain": [
              "<matplotlib.axes._subplots.AxesSubplot at 0x7f4faf134250>"
            ]
          },
          "metadata": {},
          "execution_count": 138
        },
        {
          "output_type": "display_data",
          "data": {
            "text/plain": [
              "<Figure size 1440x288 with 1 Axes>"
            ],
            "image/png": "[encoded data removed]"
          },
          "metadata": {
            "needs_background": "light"
          }
        }
      ]
    },
    {
      "cell_type": "code",
      "source": [
        "# optimal argument values by far, with an accuracy of 76.47% for SVM for this channel (channel 44)\n",
        "SVM_ECoG(x, y, down_samp=True, down_samp_len=157, gam=0.001, C_value=100, test_dat_size=17)"
      ],
      "metadata": {
        "colab": {
          "base_uri": "https://localhost:8080/"
        },
        "id": "Tm8261SDw8ld",
        "outputId": "ee156cf7-4183-464c-d8ea-3407a23d9526"
      },
      "execution_count": 140,
      "outputs": [
        {
          "output_type": "execute_result",
          "data": {
            "text/plain": [
              "(0.23529411764705882, 76.47058823529412)"
            ]
          },
          "metadata": {},
          "execution_count": 140
        }
      ]
    },
    {
      "cell_type": "code",
      "source": [
        "#!!!DONT RUN!!! find feature selection library, still doing\n",
        "def channel_comp(dat, channel_n):\n",
        "  eligible_chan_id = []\n",
        "  datf = dat_frame_t(dat, channel_n = 46)\n",
        "  dftime = dftime_win(dat)\n",
        "  for i in range(channel_n):\n",
        "    for j in range(channel_n):\n",
        "      X1 = slice_chan_dat(datf, dftime, i)\n",
        "      X2 = slice_chan_dat(datf, dftime, j)\n",
        "      y = get_y_val(dat)\n",
        "  return eligible_chan_id"
      ],
      "metadata": {
        "id": "Ect8GhykeIWx"
      },
      "execution_count": null,
      "outputs": []
    }
  ]
}