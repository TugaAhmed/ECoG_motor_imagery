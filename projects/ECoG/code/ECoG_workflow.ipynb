{
  "nbformat": 4,
  "nbformat_minor": 0,
  "metadata": {
    "colab": {
      "name": "ECoG_workflow.ipynb",
      "provenance": [],
      "collapsed_sections": []
    },
    "kernelspec": {
      "name": "python3",
      "display_name": "Python 3"
    },
    "language_info": {
      "name": "python"
    }
  },
  "cells": [
    {
      "cell_type": "code",
      "execution_count": 1,
      "metadata": {
        "id": "Kw-69LkIRVgk"
      },
      "outputs": [],
      "source": [
        "# @title Data retrieval\n",
        "import os, requests\n",
        "#download data \n",
        "fname = 'motor_imagery.npz'\n",
        "url = \"https://osf.io/ksqv8/download\"\n",
        "\n",
        "if not os.path.isfile(fname):\n",
        "  try:\n",
        "    r = requests.get(url)\n",
        "  except requests.ConnectionError:\n",
        "    print(\"!!! Failed to download data !!!\")\n",
        "  else:\n",
        "    if r.status_code != requests.codes.ok:\n",
        "      print(\"!!! Failed to download data !!!\")\n",
        "    else:\n",
        "      with open(fname, \"wb\") as fid:\n",
        "        fid.write(r.content)"
      ]
    },
    {
      "cell_type": "code",
      "source": [
        "# @title Install packages (`nilearn`, `nimare`. `duecredit`), import `matplotlib` and set defaults\n",
        "# install packages to visualize brains and electrode locations\n",
        "!pip install nilearn --quiet\n",
        "!pip install nimare --quiet\n",
        "!pip install duecredit --quiet\n",
        "\n",
        "from matplotlib import rcParams\n",
        "from matplotlib import pyplot as plt\n",
        "import pandas as pd \n",
        "\n",
        "rcParams['figure.figsize'] = [20, 4]\n",
        "rcParams['font.size'] = 15\n",
        "rcParams['axes.spines.top'] = False\n",
        "rcParams['axes.spines.right'] = False\n",
        "rcParams['figure.autolayout'] = True"
      ],
      "metadata": {
        "colab": {
          "base_uri": "https://localhost:8080/"
        },
        "id": "6dNAyx2CR33j",
        "outputId": "35599509-f1ba-4a94-d678-939d554051fc"
      },
      "execution_count": 2,
      "outputs": [
        {
          "output_type": "stream",
          "name": "stdout",
          "text": [
            "\u001b[K     |████████████████████████████████| 9.6 MB 4.9 MB/s \n",
            "\u001b[K     |████████████████████████████████| 13.3 MB 5.4 MB/s \n",
            "\u001b[K     |████████████████████████████████| 3.2 MB 37.7 MB/s \n",
            "\u001b[?25h  Building wheel for cognitiveatlas (setup.py) ... \u001b[?25l\u001b[?25hdone\n",
            "\u001b[K     |████████████████████████████████| 86 kB 2.9 MB/s \n",
            "\u001b[K     |████████████████████████████████| 179 kB 28.5 MB/s \n",
            "\u001b[?25h"
          ]
        }
      ]
    },
    {
      "cell_type": "code",
      "source": [
        "# @title Data loading\n",
        "import numpy as np\n",
        "from pickle import TRUE\n",
        "alldat = np.load(fname, allow_pickle=True)['dat']\n",
        "\n",
        "# select just one of the recordings here. 11 is nice because it has some neurons in vis ctx.\n",
        "dat1 = alldat[0][0]\n",
        "dat2 = alldat[0][1]\n",
        "# get trial number\n",
        "# print(len(dat1['stim_id']))\n",
        "\n",
        "#get trial number\n",
        "# print(alldat.shape)"
      ],
      "metadata": {
        "id": "94lIB0c6SCHT"
      },
      "execution_count": 10,
      "outputs": []
    },
    {
      "cell_type": "code",
      "source": [
        "# function to get subsets of data\n",
        "def get_sub_dat(alldata, sub_id, exp_id):\n",
        "  return alldata[sub_id][exp_id]"
      ],
      "metadata": {
        "id": "wmZDU6rRSXEF"
      },
      "execution_count": 11,
      "outputs": []
    },
    {
      "cell_type": "code",
      "source": [
        "def dftimewin(dat):\n",
        "  data = {'t_on': dat['t_on'], 't_off': dat['t_off'], 'stim_id': dat['stim_id']}\n",
        "  dftime = pd.DataFrame(data)\n",
        "  return dftime\n"
      ],
      "metadata": {
        "id": "ohz34I38Tq6j"
      },
      "execution_count": 24,
      "outputs": []
    },
    {
      "cell_type": "code",
      "source": [
        "def dft(dat, channel_n = 46):\n",
        "  #get dft\n",
        "  a = dat['V']\n",
        "  epoch_id=[]\n",
        "  for i in range(channel_n):\n",
        "    epoch_id.append(i+1)\n",
        "  epoch_id_array = np.array(epoch_id)\n",
        "  df = pd.DataFrame(a, columns=epoch_id)\n",
        "  dft = df.T\n",
        "  return dft"
      ],
      "metadata": {
        "id": "ZHvc4oSjT5Gl"
      },
      "execution_count": 21,
      "outputs": []
    },
    {
      "cell_type": "code",
      "source": [
        "#generate X for SVM\n",
        "def slice_chan_dat(dft,dftime,channel_i):\n",
        "  chan_i = dft.loc[channel_i]\n",
        "  chan_array = []\n",
        "  for j in range (0, len(dftime)):\n",
        "    chan_array.append(chan_i[dftime[\"t_on\"][j]: dftime[\"t_off\"][j]])\n",
        "  # print(chan_array.shape)\n",
        "  # ar_chan_i = chan_array.values\n",
        "  result = np.array([np.array(xi) for xi in chan_array])\n",
        "  return result"
      ],
      "metadata": {
        "id": "giYz6AVDTjqi"
      },
      "execution_count": 26,
      "outputs": []
    },
    {
      "cell_type": "code",
      "source": [
        "#generate y for SVM\n",
        "def get_y_val(dftime):\n",
        "  y = dat[\"stim_id\"].values\n",
        "  return y.shape"
      ],
      "metadata": {
        "id": "otD9FxChTkax"
      },
      "execution_count": 30,
      "outputs": []
    },
    {
      "cell_type": "code",
      "source": [
        "#get data from subject 0, experiment 0\n",
        "dat = get_sub_dat(alldat, 0, 0)\n",
        "dft = dft(dat, channel_n = 46)\n",
        "dftime = dftimewin(dat)\n",
        "# get X and y input for the SVM\n",
        "X = slice_chan_dat(dft,dftime,1)\n",
        "y = get_y_val(dftime)"
      ],
      "metadata": {
        "colab": {
          "base_uri": "https://localhost:8080/"
        },
        "id": "uJp0oB_nUp60",
        "outputId": "c93a2ce0-f823-483d-e33c-3099b28a58f2"
      },
      "execution_count": 28,
      "outputs": [
        {
          "output_type": "execute_result",
          "data": {
            "text/plain": [
              "array([[-0.1311  , -0.0793  , -0.00683 , ..., -0.00904 , -0.09314 ,\n",
              "        -0.183   ],\n",
              "       [ 1.348   ,  1.363   ,  1.373   , ..., -0.1691  , -0.03354 ,\n",
              "         0.148   ],\n",
              "       [-0.2012  , -0.1841  , -0.1384  , ..., -0.00956 ,  0.1858  ,\n",
              "         0.05383 ],\n",
              "       ...,\n",
              "       [-0.006638,  0.0105  , -0.0494  , ...,  2.293   ,  2.223   ,\n",
              "         2.326   ],\n",
              "       [-0.8135  , -0.777   , -0.7275  , ...,  0.01761 , -0.04407 ,\n",
              "        -0.1273  ],\n",
              "       [-0.4937  , -0.3262  , -0.2394  , ...,  0.664   ,  0.6     ,\n",
              "         0.4048  ]], dtype=float16)"
            ]
          },
          "metadata": {},
          "execution_count": 28
        }
      ]
    }
  ]
}